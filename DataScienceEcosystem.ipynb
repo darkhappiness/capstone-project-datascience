{
 "cells": [
  {
   "cell_type": "markdown",
   "id": "b2cc5126-9c00-4251-90d6-ccd094e12619",
   "metadata": {},
   "source": [
    "# Data Science Tools and Ecosystem"
   ]
  },
  {
   "cell_type": "markdown",
   "id": "e45d462d-9e81-4c0e-a4d7-20c4affaf14c",
   "metadata": {},
   "source": [
    "In this notebook, Data Science Tools and Ecosystem are summarized."
   ]
  },
  {
   "cell_type": "markdown",
   "id": "bdc638f4-85a8-49b7-b0d8-16bc471536e6",
   "metadata": {},
   "source": [
    "**Objectives:**\n",
    "- List popular languages for Data Science  \n",
    "- List commonly used libraries  \n",
    "- Demonstrate arithmetic expressions in Python  \n",
    "- Create tables using Markdown  \n",
    "- Share notebooks via GitHub  "
   ]
  },
  {
   "cell_type": "markdown",
   "id": "22a71cd7-550d-4074-b072-efbe5759f0b5",
   "metadata": {},
   "source": [
    "Some of the popular languages that Data Scientists use are:\n",
    "\n",
    "1. Python  \n",
    "2. R  \n",
    "3. SQL  \n",
    "4. Julia"
   ]
  },
  {
   "cell_type": "markdown",
   "id": "6ff5256c-e8a0-4d19-9c37-c0d71abe9b60",
   "metadata": {},
   "source": [
    "Some of the commonly used libraries used by Data Scientists include:\n",
    "\n",
    "1. Pandas  \n",
    "2. NumPy  \n",
    "3. Scikit-learn  \n",
    "4. TensorFlow"
   ]
  },
  {
   "cell_type": "markdown",
   "id": "8c731a58-f60b-46d4-89fb-fe88f604fc23",
   "metadata": {},
   "source": [
    "| Data Science Tools |\n",
    "|--------------------|\n",
    "| Jupyter Notebook   |\n",
    "| RStudio            |\n",
    "| Apache Zeppelin    |"
   ]
  },
  {
   "cell_type": "markdown",
   "id": "d51b1b91-9197-44ed-8733-bd2b027d3092",
   "metadata": {},
   "source": [
    "### Below are a few examples of evaluating arithmetic expressions in Python."
   ]
  },
  {
   "cell_type": "code",
   "execution_count": 34,
   "id": "49d15497-89b0-4deb-bbd6-d00c1a4b258c",
   "metadata": {},
   "outputs": [
    {
     "data": {
      "text/plain": [
       "17"
      ]
     },
     "execution_count": 34,
     "metadata": {},
     "output_type": "execute_result"
    }
   ],
   "source": [
    "# This is a simple arithmetic expression to multiply then add integers\n",
    "(3 * 4) + 5"
   ]
  },
  {
   "cell_type": "code",
   "execution_count": 36,
   "id": "2bb571b2-b611-4130-999c-f3f68a2b6a31",
   "metadata": {},
   "outputs": [
    {
     "data": {
      "text/plain": [
       "3.3333333333333335"
      ]
     },
     "execution_count": 36,
     "metadata": {},
     "output_type": "execute_result"
    }
   ],
   "source": [
    "# This will convert 200 minutes to hours by dividing by 60\n",
    "200 / 60"
   ]
  },
  {
   "cell_type": "markdown",
   "id": "25281a10-c55b-4d64-89cf-9b116ca970b7",
   "metadata": {},
   "source": [
    "## Author  \n",
    "Lara Martí"
   ]
  },
  {
   "cell_type": "code",
   "execution_count": null,
   "id": "5dc33709-e022-4ac5-bf8d-d889237728e2",
   "metadata": {},
   "outputs": [],
   "source": []
  }
 ],
 "metadata": {
  "kernelspec": {
   "display_name": "Python [conda env:base] *",
   "language": "python",
   "name": "conda-base-py"
  },
  "language_info": {
   "codemirror_mode": {
    "name": "ipython",
    "version": 3
   },
   "file_extension": ".py",
   "mimetype": "text/x-python",
   "name": "python",
   "nbconvert_exporter": "python",
   "pygments_lexer": "ipython3",
   "version": "3.12.7"
  }
 },
 "nbformat": 4,
 "nbformat_minor": 5
}
